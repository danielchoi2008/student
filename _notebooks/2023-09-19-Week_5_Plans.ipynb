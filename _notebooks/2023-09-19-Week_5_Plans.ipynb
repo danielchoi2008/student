{
 "cells": [
  {
   "cell_type": "markdown",
   "metadata": {},
   "source": [
    "---\n",
    "toc: false\n",
    "comments: true\n",
    "layout: post\n",
    "title: Week 5 Plan\n",
    "description: Week 5 Plan\n",
    "type: plans\n",
    "courses: { compsci: {week: 5} }\n",
    "permalink: /plans/week5\n",
    "---\n",
    "\n"
   ]
  }
 ],
 "metadata": {
  "language_info": {
   "name": "python"
  },
  "orig_nbformat": 4
 },
 "nbformat": 4,
 "nbformat_minor": 2
}
