{
 "cells": [
  {
   "cell_type": "markdown",
   "metadata": {},
   "source": [
    "# Iterations\n",
    "Iterations are repeating portions of an algorithm\n",
    "Looping and iterations\n",
    "Recursive function uses itself for conditions\n",
    "Recursion is defining a problem in itself"
   ]
  },
  {
   "cell_type": "code",
   "execution_count": null,
   "metadata": {},
   "outputs": [],
   "source": [
    "def factorial(n):\n",
    "        if n == 0:\n",
    "          return 1\n",
    "        else:\n",
    "          return n * factorial(n - 1)\n",
    "  result = factorial(5)\n",
    "print(\"The factorial of 5 is:\", result)"
   ]
  },
  {
   "cell_type": "code",
   "execution_count": null,
   "metadata": {},
   "outputs": [],
   "source": [
    "def fibonacci(x):\n",
    "        if x==1:\n",
    "          return(0) # First terminating statement\n",
    "        if x == 2:\n",
    "          return(1) # Second terminating statement\n",
    "   \n",
    "        else:\n",
    "          return(fibonacci(x-1)+ fibonacci(x-2))\n",
    "\n",
    "\n",
    "      for i in range(8):    \n",
    "        print(fibonacci(i+1))"
   ]
  }
 ],
 "metadata": {
  "language_info": {
   "name": "python"
  },
  "orig_nbformat": 4
 },
 "nbformat": 4,
 "nbformat_minor": 2
}
