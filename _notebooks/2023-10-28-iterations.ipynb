{
 "cells": [
  {
   "cell_type": "markdown",
   "metadata": {},
   "source": [
    "# Iterations\n",
    "Iterations are repeating portions of an algorithm\n",
    "Looping and iterations\n",
    "Recursive function uses itself for conditions\n",
    "Recursion is defining a problem in itself"
   ]
  }
 ],
 "metadata": {
  "language_info": {
   "name": "python"
  },
  "orig_nbformat": 4
 },
 "nbformat": 4,
 "nbformat_minor": 2
}
