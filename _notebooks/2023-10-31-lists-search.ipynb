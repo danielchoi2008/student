{
 "cells": [
  {
   "cell_type": "code",
   "execution_count": null,
   "metadata": {},
   "outputs": [],
   "source": []
  },
  {
   "cell_type": "markdown",
   "metadata": {},
   "source": [
    "aList[i] - This access your list at index i\n",
    "x <- aList[i] - Assigns value of aList[i] to variable x\n",
    "aList[i] <- x - Assigns value of x to aList[i]\n",
    "aList[i] <- aList[j] - Assigns value of aList[j] to aList[i]\n",
    "Big O notation is a way to measure upper limit of runtime of function\n",
    "O(1): Constant time (Ex. searching up an element by index)\n",
    "O(log n): As input size increases, time grows slowly (Binary Search!)\n",
    "O(n): Linear time: As input size increases, time grows proportionally. (Linear Search)\n",
    "O(2^n): Exponential time: Highly inefficient, as input size increases, time grows exponentially. (Brute force)\n",
    "O(n!): Factorial time: Extremely inefficient, often used to find all possible permutations of a problem."
   ]
  }
 ],
 "metadata": {
  "language_info": {
   "name": "python"
  },
  "orig_nbformat": 4
 },
 "nbformat": 4,
 "nbformat_minor": 2
}
