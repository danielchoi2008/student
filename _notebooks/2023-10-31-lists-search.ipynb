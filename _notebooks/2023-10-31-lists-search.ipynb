{
 "cells": [
  {
   "cell_type": "markdown",
   "metadata": {},
   "source": [
    "aList[i] - This access your list at index i\n",
    "x <- aList[i] - Assigns value of aList[i] to variable x\n",
    "aList[i] <- x - Assigns value of x to aList[i]\n",
    "aList[i] <- aList[j] - Assigns value of aList[j] to aList[i]\n",
    "Big O notation is a way to measure upper limit of runtime of function\n",
    "O(1): Constant time (Ex. searching up an element by index)\n",
    "O(log n): As input size increases, time grows slowly (Binary Search!)\n",
    "O(n): Linear time: As input size increases, time grows proportionally. (Linear Search)\n",
    "O(2^n): Exponential time: Highly inefficient, as input size increases, time grows exponentially. (Brute force)\n",
    "O(n!): Factorial time: Extremely inefficient, often used to find all possible permutations of a problem."
   ]
  },
  {
   "cell_type": "code",
   "execution_count": null,
   "metadata": {},
   "outputs": [],
   "source": [
    "# Create a list of numbers\n",
    "numbers = [1, 2, 3, 4, 5]\n",
    "\n",
    "# Access the element at index 2 (3rd element) and assign it to a variable\n",
    "element_at_index_2 = numbers[2]\n",
    "\n",
    "# Append a new element (6) to the end of the list\n",
    "numbers.append(6)\n",
    "\n",
    "# Insert a new element (0) at the beginning of the list\n",
    "numbers.insert(0, 0)\n",
    "\n",
    "# Remove the element at index 4 (5th element)\n",
    "removed_element = numbers.pop(4)\n",
    "\n",
    "# Calculate the length of the list\n",
    "list_length = len(numbers)\n",
    "\n",
    "# Print the updated list and other variables\n",
    "print(\"List of numbers:\", numbers)\n",
    "print(\"Element at index 2:\", element_at_index_2)\n",
    "print(\"Removed element:\", removed_element)\n",
    "print(\"List length:\", list_length)\n"
   ]
  },
  {
   "cell_type": "code",
   "execution_count": null,
   "metadata": {},
   "outputs": [],
   "source": [
    "my_list = [10, 20, 30, 40, 50]\n",
    "\n",
    "# Using list indexing to access an element at a specific position\n",
    "element = my_list[2]  # This will retrieve the third element (30) from the list\n",
    "\n",
    "# Using list procedures (in this case, appending an element to the list)\n",
    "my_list.append(60)  # This will add the value 60 to the end of the list\n",
    "\n",
    "print(f\"Element at index 2: {element}\")\n",
    "print(f\"Updated list: {my_list}\")\n"
   ]
  }
 ],
 "metadata": {
  "language_info": {
   "name": "python"
  },
  "orig_nbformat": 4
 },
 "nbformat": 4,
 "nbformat_minor": 2
}
