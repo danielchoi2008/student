{
 "cells": [
  {
   "cell_type": "markdown",
   "metadata": {},
   "source": [
    "Iterations are going through sets of laws or objectives for loops to complete\n",
    "Randomization is used to generate random numbers"
   ]
  },
  {
   "cell_type": "code",
   "execution_count": null,
   "metadata": {},
   "outputs": [],
   "source": [
    "def find_median(test_scores):\n",
    "    # Sort the list of test scores\n",
    "    test_scores.sort()\n",
    "\n",
    "    # Calculate the number of scores\n",
    "    num_scores = len(test_scores)\n",
    "\n",
    "    # Check if the number of scores is even or odd\n",
    "    if num_scores % 2 == 1:  # Odd number of scores\n",
    "        median = test_scores[num_scores // 2]\n",
    "    else:  # Even number of scores\n",
    "        middle1 = test_scores[num_scores // 2 - 1]\n",
    "        middle2 = test_scores[num_scores // 2]\n",
    "        median = (middle1 + middle2) / 2\n",
    "\n",
    "    return median\n",
    "\n",
    "# Example usage:\n",
    "test_scores = [85, 92, 78, 95, 88, 91, 72, 89]\n",
    "median_score = find_median(test_scores)\n",
    "print(f\"The median test score is: {median_score}\")\n"
   ]
  }
 ],
 "metadata": {
  "language_info": {
   "name": "python"
  },
  "orig_nbformat": 4
 },
 "nbformat": 4,
 "nbformat_minor": 2
}
