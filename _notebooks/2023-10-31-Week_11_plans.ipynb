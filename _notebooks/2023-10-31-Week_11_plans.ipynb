{
 "cells": [
  {
   "cell_type": "markdown",
   "metadata": {},
   "source": [
    "---\n",
    "toc: false\n",
    "comments: true\n",
    "layout: post\n",
    "title: Week 11 Plan\n",
    "description: Week 11 Plan\n",
    "type: plans\n",
    "courses: { compsci: {week: 11} }\n",
    "permalink: /plans/week11\n",
    "---"
   ]
  }
 ],
 "metadata": {
  "language_info": {
   "name": "python"
  },
  "orig_nbformat": 4
 },
 "nbformat": 4,
 "nbformat_minor": 2
}
