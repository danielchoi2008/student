{
 "cells": [
  {
   "cell_type": "markdown",
   "metadata": {},
   "source": [
    "---\n",
    "title: Random Word Generator\n",
    "#comments: true\n",
    "hide: true\n",
    "layout: default\n",
    "description: Generate a random word\n",
    "courses: { compsci: {week: 3} }\n",
    "type: hacks\n",
    "---"
   ]
  },
  {
   "cell_type": "code",
   "execution_count": 3,
   "metadata": {},
   "outputs": [
    {
     "name": "stderr",
     "output_type": "stream",
     "text": [
      "[nltk_data] Downloading package words to\n",
      "[nltk_data]     /Users/danielchoi/nltk_data...\n",
      "[nltk_data]   Package words is already up-to-date!\n"
     ]
    },
    {
     "name": "stdout",
     "output_type": "stream",
     "text": [
      "Random word: posthitis\n",
      "Random word: digynous\n",
      "Random word: normocyte\n",
      "Random word: Hippidium\n",
      "Random word: clat\n",
      "Random word: dictate\n",
      "Random word: percylite\n",
      "Random word: saltatorian\n",
      "Random word: hemiamblyopia\n",
      "Random word: studdle\n",
      "Random word: unresifted\n",
      "Random word: desertress\n",
      "Random word: preventiveness\n"
     ]
    }
   ],
   "source": [
    "import random\n",
    "import nltk\n",
    "\n",
    "# Download the NLTK words corpus if you haven't already\n",
    "nltk.download(\"words\")\n",
    "\n",
    "from nltk.corpus import words\n",
    "\n",
    "# Get a list of English words from the NLTK corpus\n",
    "word_list = words.words()\n",
    "\n",
    "# Function to generate a random word\n",
    "def generate_random_word():\n",
    "    return random.choice(word_list)\n",
    "\n",
    "# Main loop\n",
    "while True:\n",
    "    user_input = input(\"Press Enter to generate a random word (or 'q' to quit): \")\n",
    "    \n",
    "    if user_input.lower() == 'q':\n",
    "        break\n",
    "    \n",
    "    random_word = generate_random_word()\n",
    "    print(\"Random word:\", random_word)"
   ]
  }
 ],
 "metadata": {
  "kernelspec": {
   "display_name": "Python 3",
   "language": "python",
   "name": "python3"
  },
  "language_info": {
   "codemirror_mode": {
    "name": "ipython",
    "version": 3
   },
   "file_extension": ".py",
   "mimetype": "text/x-python",
   "name": "python",
   "nbconvert_exporter": "python",
   "pygments_lexer": "ipython3",
   "version": "3.11.5"
  },
  "orig_nbformat": 4
 },
 "nbformat": 4,
 "nbformat_minor": 2
}
