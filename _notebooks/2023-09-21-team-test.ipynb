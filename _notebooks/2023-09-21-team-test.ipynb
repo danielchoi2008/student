{
 "cells": [
  {
   "cell_type": "markdown",
   "metadata": {},
   "source": [
    "---\n",
    "title: Team Test\n",
    "comments: true\n",
    "hide: true\n",
    "layout: post\n",
    "description: Program Design and Development\n",
    "categories: [C7.0]\n",
    "courses: { compsci: {week: 5} }\n",
    "type: hacks\n",
    "---"
   ]
  },
  {
   "cell_type": "markdown",
   "metadata": {},
   "source": [
    "## Program Design and Development\n",
    "\n",
    "WHAT THIS IS: This is our team test assignment. We worked together and collaborated on designing the functionality of this program. We decided on a topic to base this project around on, which was video games. Once the topic was decided, our team communicated effectively to deliver the project.\n",
    "\n",
    "FUNCTIONALITY: This project acts as statistics on the player for the video game Valorant. This code also acts as a conversation between friends on their statistics in the game. \n",
    "\n",
    "MY ROLE: My role in this project was to develop solutions to any problems that may have caused the code to not work as intended. For instance, some of the lines were not read in script due to a typo or by leaving something out. I also worked with if/else and try/catch statements to show comments and code logic."
   ]
  },
  {
   "cell_type": "markdown",
   "metadata": {},
   "source": [
    "<img src=\"/student/images/code_flowchart.png\" width = \"400\" height = \"400\">"
   ]
  },
  {
   "cell_type": "code",
   "execution_count": 1,
   "metadata": {},
   "outputs": [
    {
     "name": "stdout",
     "output_type": "stream",
     "text": [
      "Here is a list of some popular video games!\n",
      "Valorant\n",
      "Apex legends\n",
      "Fortnite\n",
      "League of Legends\n",
      "Roblox\n",
      "Alright game.\n",
      "But what is my K/D ratio and FK/FD ratio?\n",
      "My K/D ration is:  2.0\n",
      "Im a good player! I can get 1 kill for every death!\n",
      "My FK/FD ratio is:  3.0\n",
      "Im so good at getting the first kill in the round and not dying first!\n",
      "What about my headshot to legshot ratio?\n",
      "Could not find the heashot to legshot ratio. Error: division by zero\n"
     ]
    }
   ],
   "source": [
    "## CODE FOR THIS SEGMENT DONE BY AIDAN LAU (github account AidanLau10), and DANIEL CHOI\n",
    "\n",
    "## Makes use of a list here, specifically a list of popular games: Written by Aidan Lau\n",
    "video_games = [\"Valorant\", \"Apex legends\", \"Fortnite\", \"League of Legends\", \"Roblox\"]\n",
    "\n",
    "## Iterative code here: runs through all games in the list defined above: Written by Aidan Lau\n",
    "print(\"Here is a list of some popular video games!\")\n",
    "for game in video_games:\n",
    "    print(game)\n",
    "    \n",
    "## Gets user input and provides basis for rest of code (based on KDR of the specific game Valorant): Written by Aidan Lau\n",
    "favorite_game = input(\"What is your favorite video game? \")\n",
    "\n",
    "if favorite_game == \"Valorant\":\n",
    "    print(\"You are class!\")\n",
    "elif favorite_game == \"Apex Legends\":\n",
    "    print(\"That game is not good!!\")\n",
    "elif favorite_game == \"Fortnite\":\n",
    "    print(\"That game used to be good.\")\n",
    "elif favorite_game == \"League of Legends\":\n",
    "    print(\"Please stop playing that game.\")\n",
    "else:\n",
    "    print(\"Alright game.\")\n",
    "\n",
    "\n",
    "## Defines player statitstics using a dictionary called \"my_stats\"\n",
    "my_stats = {\n",
    "    \"best_agent\": \"omen\",\n",
    "    \"adr\": 178.8,\n",
    "    \"kills\": 26,\n",
    "    \"deaths\": 13,\n",
    "    \"first_kills\": 3,\n",
    "    \"first_deaths\": 1,\n",
    "    \"hs_percent\": 25,\n",
    "    \"leg_percent\": 0,\n",
    "}\n",
    "\n",
    "## Mathematical calculation here for kill/death ratio: uses dictionary above to divide stats. Uses less than and greater than signs to return info based on said stats. Written by Aidan Lau\n",
    "print(\"But what is my K/D ratio and FK/FD ratio?\")\n",
    "kd = my_stats[\"kills\"] / my_stats[\"deaths\"]\n",
    "print(\"My K/D ration is: \", kd)\n",
    "if kd > 1:\n",
    "    print(\"Im a good player! I can get 1 kill for every death!\")\n",
    "elif kd < 1:\n",
    "    print(\"I'm so bad. I can't even get a kill for every death.\")\n",
    "   \n",
    "## More statistical calculations, based on First Kills vs First Deaths\n",
    "fkfd = my_stats[\"first_kills\"] / my_stats[\"first_deaths\"]\n",
    "print(\"My FK/FD ratio is: \", fkfd)\n",
    "if fkfd > 1:\n",
    "    print(\"Im so good at getting the first kill in the round and not dying first!\")\n",
    "elif fkfd < 1:\n",
    "    print(\"I die first in the round more times than I'm able to get the first kill!\")\n",
    "\n",
    "## Final Mathetmatical calculation, makes use of error checks as well to avoid math errors like dividing by zero. CODE WRITTEN BY DANIEL CHOI\n",
    "print(\"What about my headshot to legshot ratio?\")\n",
    "def test_my_stats(stats):\n",
    "    try:\n",
    "        hs_leg_percent = my_stats[\"hs_percent\"] / my_stats[\"leg_percent\"]\n",
    "    except ZeroDivisionError as e:\n",
    "        print(f\"Could not find the heashot to legshot ratio. Error: {e}\")\n",
    "    if stats[\"adr\"] < 0 or stats[\"kills\"] < 0 or stats[\"deaths\"] < 0:\n",
    "            raise ValueError(\"The ADR, kills, and death values should not be negative\")    \n",
    "\n",
    "test_my_stats(my_stats)  "
   ]
  }
 ],
 "metadata": {
  "kernelspec": {
   "display_name": "Python 3 (ipykernel)",
   "language": "python",
   "name": "python3"
  },
  "language_info": {
   "codemirror_mode": {
    "name": "ipython",
    "version": 3
   },
   "file_extension": ".py",
   "mimetype": "text/x-python",
   "name": "python",
   "nbconvert_exporter": "python",
   "pygments_lexer": "ipython3",
   "version": "3.11.6"
  }
 },
 "nbformat": 4,
 "nbformat_minor": 4
}
