{
 "cells": [
  {
   "cell_type": "markdown",
   "metadata": {},
   "source": [
    "---\n",
    "toc: false\n",
    "comments: true\n",
    "layout: post\n",
    "title: Trimester 1 Overview\n",
    "description: What I learned and did in trimester 1 of AP Computer Science\n",
    "type: plans\n",
    "courses: { compsci: {week: 12} }\n",
    "permalink: tangibles\n",
    "---"
   ]
  },
  {
   "cell_type": "markdown",
   "metadata": {},
   "source": [
    "# Week 1 - 6\n",
    "During weeks 1-6, I worked on familiarizing myself with coding languauges such as Python and making a computer science notebook. I also worked on my code and learning how to write code properly while making use of materials like ChatGPT. I partnered with a classmate to perform the partner checkoffs on code. I presented a random number generator and a random fact generator. After that, I joined a team and we performed our team test. I learned how to program on websites to add certain details and forms.br\n",
    "\n",
    "# Week 6 - 9\n",
    "I worked on student teachings and collaborated with my group to start student teaching. We Worked on our passion project and inched toward our final for the trimester.\n",
    "\n",
    "# Week 9 - 12\n",
    "From the last few weeks leading to the final, we finished our student teaching and finished our passion project. We also finished our N@TM project and presented at N@TM. I worked with my group to add the finishing touches to our code on the final.\n",
    "\n",
    "# OVERALL\n",
    "Overall throughout this trimester, I learned the basics of code and how to utilize source such as ChatGPT. This trimester familiarized me with the basics of coding languages in Python, HTML, Javascript, etc... This trimester introduced projects using code and coding websites to show actual projects with items such as buttons that actually work. I learned how to collaborate with my team in the case of coding. "
   ]
  }
 ],
 "metadata": {
  "language_info": {
   "name": "python"
  },
  "orig_nbformat": 4
 },
 "nbformat": 4,
 "nbformat_minor": 2
}
