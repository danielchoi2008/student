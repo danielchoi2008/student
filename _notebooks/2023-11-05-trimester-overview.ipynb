{
 "cells": [
  {
   "cell_type": "markdown",
   "metadata": {},
   "source": [
    "---\n",
    "toc: false\n",
    "comments: true\n",
    "layout: post\n",
    "title: Trimester 1 Overview\n",
    "description: What I learned and did in trimester 1 of AP Computer Science\n",
    "type: plans\n",
    "courses: { compsci: {week: 12} }\n",
    "permalink: tangibles\n",
    "---"
   ]
  },
  {
   "cell_type": "markdown",
   "metadata": {},
   "source": [
    "# Week 1 - 6\n",
    "During weeks 1-6, I worked on familiarizing myself with coding languauges such as Python and making a computer science notebook. I also worked on my code and learning how to write code properly without relying too much on the use of materials like ChatGPT. I joined a team and we performed our team test\n",
    "\n",
    "# Week 6 - 9\n",
    "Worked on student teachings and our group student teaching. Worked on passion project and inched toward our final for the trimester.\n",
    "\n",
    "# Week 9 - 12\n",
    "From the last few weeks leading to the final, we finished our student teaching and finished our passion project. We also finished our N@TM project and presented at N@TM. I worked with my group to add the finishing touches to our code on the final."
   ]
  }
 ],
 "metadata": {
  "language_info": {
   "name": "python"
  },
  "orig_nbformat": 4
 },
 "nbformat": 4,
 "nbformat_minor": 2
}
