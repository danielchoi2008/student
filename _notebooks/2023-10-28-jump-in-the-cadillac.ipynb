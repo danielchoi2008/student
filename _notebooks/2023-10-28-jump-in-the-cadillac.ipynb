{
 "cells": [
  {
   "cell_type": "code",
   "execution_count": null,
   "metadata": {},
   "outputs": [],
   "source": [
    "import requests\n",
    "\n",
    "url = \"https://media.tenor.com/lVIuYsJXHzEAAAAd/spongebob-dancing.gif\"\n",
    "response = requests.get(url)\n",
    "\n",
    "if response.status_code == 200:\n",
    "    print(\"The website is accessible.\")\n",
    "else:\n",
    "    print(\"The website is not accessible.\")\n"
   ]
  },
  {
   "cell_type": "code",
   "execution_count": null,
   "metadata": {},
   "outputs": [],
   "source": [
    "def overcomplicated_add(a, b):\n",
    "    if b == 0:\n",
    "        return a\n",
    "    else:\n",
    "        if b % 2 == 0:\n",
    "            return overcomplicated_add(a, b // 2) * 2\n",
    "        else:\n",
    "            return overcomplicated_add(a, b // 2) * 2 + a\n",
    "\n",
    "result = overcomplicated_add(1, 1)\n",
    "print(\"1 + 1 =\", result)\n"
   ]
  },
  {
   "cell_type": "markdown",
   "metadata": {},
   "source": [
    "Uses recursive algorithm that divides the problem into smaller parts by repeatedly dividing b by 2 and performing addition. Also uses binary representation of the numbers and combines them in a recursive manner. lmao idk "
   ]
  }
 ],
 "metadata": {
  "language_info": {
   "name": "python"
  },
  "orig_nbformat": 4
 },
 "nbformat": 4,
 "nbformat_minor": 2
}
