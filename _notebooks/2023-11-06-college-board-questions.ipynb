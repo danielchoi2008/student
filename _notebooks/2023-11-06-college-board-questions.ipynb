{
 "cells": [
  {
   "cell_type": "markdown",
   "metadata": {},
   "source": [
    "---\n",
    "toc: false\n",
    "comments: true\n",
    "layout: post\n",
    "title: College Board Questions\n",
    "description: What I looked up for the College Board quiz\n",
    "type: plans\n",
    "courses: { compsci: {week: 12} }\n",
    "permalink: tangibles\n",
    "---"
   ]
  },
  {
   "cell_type": "markdown",
   "metadata": {},
   "source": [
    "# Questions\n",
    "1. What is citizen science?\n",
    "2. What is IETF? (Internet Engineering Task Force)"
   ]
  }
 ],
 "metadata": {
  "language_info": {
   "name": "python"
  },
  "orig_nbformat": 4
 },
 "nbformat": 4,
 "nbformat_minor": 2
}
