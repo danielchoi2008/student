{
 "cells": [
  {
   "cell_type": "markdown",
   "metadata": {},
   "source": [
    "---\n",
    "toc: false\n",
    "comments: true\n",
    "layout: post\n",
    "title: Kimchi Fried Rice\n",
    "type: plans\n",
    "courses: { compsci: {week: 6} }\n",
    "permalink: /plans/week6\n",
    "---\n",
    "\n"
   ]
  },
  {
   "cell_type": "markdown",
   "metadata": {},
   "source": [
    "# How to Make Kimchi Fried Rice\n",
    "\n",
    "A short guide on how to make kimchi fried rice.\n",
    "\n",
    "```javascript\n",
    "console.log(\"Got that fried rice\");\n",
    "Click here for background information on kimchi fried rice.\n",
    "\n",
    "Ingredients\n",
    "\n",
    "KIMCHI: (You're going to want to buy the cabbage kimchi)\n",
    "RICE: (Any rice works for this, even instant)\n",
    "SESAME SEED\n",
    "SESAME SEED OIL\n",
    "BIG GREEN ONION\n",
    "Optional Ingredient\n",
    "\n",
    "1 or 2 Eggs\n",
    "Recipe\n",
    "\n",
    "First, wash your green onion and cut it up into fine, small rings.\n",
    "Grab some pan oil and spray it on your pan of choice.\n",
    "Turn the heat on and wait for the pan to heat up.\n",
    "Once warmed, put the kimchi and let it cook for roughly 1:30 minutes.\n",
    "Then, add the rice and let that mix with the kimchi.\n",
    "When fully cooked, put the kimchi fried rice in a bowl and add your green onions.\n",
    "Pour 2 teaspoons of sesame seed oil with a sprinkle of sesame seeds.\n",
    "Add your egg on top, and voila! Easy kimchi fried rice. Enjoy!\n",
    "Note: You may also add more ingredients of your choosing. Some people find that bacon or spam go well with the fried rice.\n"
   ]
  },
  {
   "cell_type": "code",
   "execution_count": null,
   "metadata": {
    "vscode": {
     "languageId": "html"
    }
   },
   "outputs": [],
   "source": [
    "<div id=\"Timer\">\n",
    "    <h2>Timer</h2>\n",
    "    <p id=\"safeTimerDisplay\">1:30</p>\n",
    "    <button id=\"startStopButton\" type=\"button\">Start Timer</button>\n",
    "  </div>"
   ]
  },
  {
   "cell_type": "code",
   "execution_count": null,
   "metadata": {
    "vscode": {
     "languageId": "javascript"
    }
   },
   "outputs": [],
   "source": [
    "var timerRunning = false;\n",
    "var timerInterval;\n",
    "\n",
    "function startStopTimer() {\n",
    "  var startStopButton = document.getElementById(\"startStopButton\");\n",
    "  var display = document.getElementById(\"safeTimerDisplay\");\n",
    "\n",
    "  if (timerRunning) {\n",
    "    // Stop the timer\n",
    "    clearInterval(timerInterval);\n",
    "    timerRunning = false;\n",
    "    startStopButton.textContent = \"Start Timer\";\n",
    "  } else {\n",
    "    // Start the timer\n",
    "    var timeInSeconds = 90; // Change this to your desired initial time in seconds\n",
    "    var minutes, seconds;\n",
    "\n",
    "    timerInterval = setInterval(function () {\n",
    "      minutes = parseInt(timeInSeconds / 60, 10);\n",
    "      seconds = parseInt(timeInSeconds % 60, 10);\n",
    "\n",
    "      minutes = minutes < 10 ? \"0\" + minutes : minutes;\n",
    "      seconds = seconds < 10 ? \"0\" + seconds : seconds;\n",
    "\n",
    "      display.textContent = minutes + \":\" + seconds;\n",
    "\n",
    "      if (--timeInSeconds < 0) {\n",
    "        // Timer has reached 0, stop it\n",
    "        clearInterval(timerInterval);\n",
    "        timerRunning = false;\n",
    "        startStopButton.textContent = \"Start Timer\";\n",
    "      }\n",
    "    }, 1000);\n",
    "\n",
    "    timerRunning = true;\n",
    "    startStopButton.textContent = \"Stop Timer\";\n",
    "  }\n",
    "}\n",
    "\n",
    "// Add a click event listener to the Start/Stop button\n",
    "document.getElementById(\"startStopButton\").addEventListener(\"click\", startStopTimer);\n"
   ]
  }
 ],
 "metadata": {
  "kernelspec": {
   "display_name": "Python 3",
   "language": "python",
   "name": "python3"
  },
  "language_info": {
   "codemirror_mode": {
    "name": "ipython",
    "version": 3
   },
   "file_extension": ".py",
   "mimetype": "text/x-python",
   "name": "python",
   "nbconvert_exporter": "python",
   "pygments_lexer": "ipython3",
   "version": "3.11.5"
  },
  "orig_nbformat": 4
 },
 "nbformat": 4,
 "nbformat_minor": 2
}
