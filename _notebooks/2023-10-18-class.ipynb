{
 "cells": [
  {
   "cell_type": "code",
   "execution_count": null,
   "metadata": {
    "vscode": {
     "languageId": "javascript"
    }
   },
   "outputs": [],
   "source": [
    "%%JSON\n",
    "//make a small class that has variables and relates to the passion project or some shit lmao\n",
    "\n",
    "class airplane{\n",
    "    constructor(name, weight, capacity){\n",
    "        this.name = airbusa321;\n",
    "        this.weight = 106,900 lbs;\n",
    "        this.capacity = 236 seats;\n",
    "    }\n",
    "\n",
    "    print() {\n",
    "        console.log(this.airbusa321\n",
    "            this.106,900 lbs,\n",
    "            this.236 seats,());\n",
    "        }"
   ]
  }
 ],
 "metadata": {
  "language_info": {
   "name": "python"
  },
  "orig_nbformat": 4
 },
 "nbformat": 4,
 "nbformat_minor": 2
}
