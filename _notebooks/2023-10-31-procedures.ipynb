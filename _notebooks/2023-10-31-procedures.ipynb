{
 "cells": [
  {
   "cell_type": "markdown",
   "metadata": {},
   "source": [
    "Procedures are groups of programming instructions that may have parameters and return values\n",
    "Parameters are input values of procedures\n",
    "Procedure calls interrupt the sequential execution of statements which causes program to execute statements within the procedure\n",
    "Procedures are simply groups of programming instructions\n",
    "def name_of_function (parameter 1, parameter 2):\n",
    "code statemens here\n",
    "Program acts like procedure calls once lines of code are written\n",
    "Procedures are examples of abstractions\n",
    "Procedures can be reused\n",
    "Classes are defined using class keywords, class name, and colon\n",
    "class MYCLASS:\n",
    "Attributes are variables that belong to classes"
   ]
  }
 ],
 "metadata": {
  "language_info": {
   "name": "python"
  },
  "orig_nbformat": 4
 },
 "nbformat": 4,
 "nbformat_minor": 2
}
