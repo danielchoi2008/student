{
 "cells": [
  {
   "cell_type": "markdown",
   "metadata": {},
   "source": [
    "Procedures are groups of programming instructions that may have parameters and return values\n",
    "Parameters are input values of procedures\n",
    "Procedure calls interrupt the sequential execution of statements which causes program to execute statements within the procedure\n",
    "Procedures are simply groups of programming instructions\n",
    "def name_of_function (parameter 1, parameter 2):\n",
    "code statemens here\n",
    "Program acts like procedure calls once lines of code are written\n",
    "Procedures are examples of abstractions\n",
    "Procedures can be reused\n",
    "Classes are defined using class keywords, class name, and colon\n",
    "class MYCLASS:\n",
    "Attributes are variables that belong to classes"
   ]
  },
  {
   "cell_type": "code",
   "execution_count": null,
   "metadata": {},
   "outputs": [],
   "source": [
    "class MyClass:\n",
    "    def __init__(self, attribute1, attribute2):\n",
    "        self.attribute1 = attribute1\n",
    "        self.attribute2 = attribute2\n",
    "\n",
    "class MyClass:\n",
    "    def my_method(self):\n",
    "        # method body\n",
    "        pass\n",
    "\n",
    "\n",
    "class MyClass:\n",
    "    def __init__(self, attribute1, attribute2):\n",
    "        self.attribute1 = attribute1\n",
    "        self.attribute2 = attribute2\n",
    "\n",
    "class MyClass:\n",
    "    def my_method(self):\n",
    "        print(self.attribute1)"
   ]
  },
  {
   "cell_type": "code",
   "execution_count": null,
   "metadata": {},
   "outputs": [],
   "source": [
    "def generate_multiplication_table(number, limit):\n",
    "    \"\"\"\n",
    "    Generates a multiplication table for the given number up to the specified limit.\n",
    "    \n",
    "    :param number: The number for which to generate the table.\n",
    "    :param limit: The upper limit of the table (e.g., how far the multiplication will go).\n",
    "    \"\"\"\n",
    "    print(f\"Multiplication Table for {number} (Up to {limit}):\\n\")\n",
    "    \n",
    "    for i in range(1, limit + 1):\n",
    "        result = number * i\n",
    "        print(f\"{number} x {i} = {result}\")\n",
    "\n",
    "# Usage\n",
    "generate_multiplication_table(5, 10)"
   ]
  }
 ],
 "metadata": {
  "language_info": {
   "name": "python"
  },
  "orig_nbformat": 4
 },
 "nbformat": 4,
 "nbformat_minor": 2
}
