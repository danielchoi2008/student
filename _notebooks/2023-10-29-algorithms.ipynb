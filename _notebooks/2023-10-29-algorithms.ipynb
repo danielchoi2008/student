{
 "cells": [
  {
   "cell_type": "markdown",
   "metadata": {},
   "source": [
    "# Algorithms\n",
    "Algorithms are finite sets of instructions to complete a task\n",
    "It follows steps\n",
    "It chooses different outcomes from conditions made\n",
    "It repeats code segments if condition is met\n",
    "Pseudocode is a planning language that conveys implementation of an algorithm to programmers\n",
    "String algorithms take user inputs and convert them into a palindrome"
   ]
  }
 ],
 "metadata": {
  "language_info": {
   "name": "python"
  },
  "orig_nbformat": 4
 },
 "nbformat": 4,
 "nbformat_minor": 2
}
