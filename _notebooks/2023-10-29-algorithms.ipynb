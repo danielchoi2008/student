{
 "cells": [
  {
   "cell_type": "markdown",
   "metadata": {},
   "source": [
    "# Algorithms\n",
    "Algorithms are finite sets of instructions to complete a task\n",
    "It follows steps\n",
    "It chooses different outcomes from conditions made\n",
    "It repeats code segments if condition is met\n",
    "Pseudocode is a planning language that conveys implementation of an algorithm to programmers\n",
    "String algorithms take user inputs and convert them into a palindrome"
   ]
  },
  {
   "cell_type": "code",
   "execution_count": null,
   "metadata": {},
   "outputs": [],
   "source": [
    "user_input = input(\"Enter a string: \")\n",
    "\n",
    "def is_palindrome(input_str):\n",
    "    # takes the input and takes out any spaces and makes it lower case for case-sensitive\n",
    "    input_str = input_str.replace(\" \", \"\").lower()\n",
    "\n",
    "    # compare the string with its reverse\n",
    "    return input_str == input_str[::-1]\n",
    "\n",
    "# takes parameter, user_input which is the string the user put and the function is_palindrome takes it as an argument\n",
    "if is_palindrome(user_input):\n",
    "    print(\"The input is a palindrome.\")\n",
    "else:\n",
    "    print(\"The input is not a palindrome.\")"
   ]
  }
 ],
 "metadata": {
  "language_info": {
   "name": "python"
  },
  "orig_nbformat": 4
 },
 "nbformat": 4,
 "nbformat_minor": 2
}
