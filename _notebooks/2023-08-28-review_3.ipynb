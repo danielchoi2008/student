{
 "cells": [
  {
   "cell_type": "markdown",
   "metadata": {},
   "source": [
    "---\n",
    "toc: false\n",
    "comments: true\n",
    "layout: post\n",
    "title: Review 3\n",
    "description: PBL Unit 1 / Week 2 plan using Utterance\n",
    "type: tangibles\n",
    "courses: { compsci: {week: 3} }\n",
    "---\n",
    "\n"
   ]
  },
  {
   "cell_type": "markdown",
   "metadata": {},
   "source": [
    "[Utterance Generated Link](https://github.com/nighthawkcoders/student/issues/15)"
   ]
  }
 ],
 "metadata": {
  "language_info": {
   "name": "python"
  },
  "orig_nbformat": 4
 },
 "nbformat": 4,
 "nbformat_minor": 2
}
