{
 "cells": [
  {
   "cell_type": "markdown",
   "metadata": {},
   "source": [
    "---\n",
    "toc: false\n",
    "comments: true\n",
    "layout: post\n",
    "title: Week 2 Plan\n",
    "description: PBL Unit 1 / Week 2 plan using Utterance\n",
    "type: plans\n",
    "courses: { compsci: {week: 2} }\n",
    "permalink: /plans/week2\n",
    "---\n",
    "\n"
   ]
  },
  {
   "cell_type": "markdown",
   "metadata": {},
   "source": [
    "[Utterance Generated Link](https://github.com/nighthawkcoders/student/issues/15)"
   ]
  }
 ],
 "metadata": {
  "language_info": {
   "name": "python"
  },
  "orig_nbformat": 4
 },
 "nbformat": 4,
 "nbformat_minor": 2
}
