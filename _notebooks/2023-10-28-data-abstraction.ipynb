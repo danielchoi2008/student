{
 "cells": [
  {
   "cell_type": "code",
   "execution_count": null,
   "metadata": {},
   "outputs": [],
   "source": []
  },
  {
   "cell_type": "markdown",
   "metadata": {},
   "source": [
    "Variables are abstractions inside a progam that hold values\n",
    "Integer is used to store numbers that can later be used in mathematical operations\n",
    "Texts are used to store text lists\n",
    "Booleans are used to store true or false"
   ]
  }
 ],
 "metadata": {
  "language_info": {
   "name": "python"
  },
  "orig_nbformat": 4
 },
 "nbformat": 4,
 "nbformat_minor": 2
}
