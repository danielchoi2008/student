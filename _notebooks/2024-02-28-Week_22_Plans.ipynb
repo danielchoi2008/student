{
 "cells": [
  {
   "cell_type": "markdown",
   "metadata": {},
   "source": [
    "---\n",
    "toc: false\n",
    "comments: true\n",
    "layout: post\n",
    "title: CSP Tri 2 Final\n",
    "description: Tri 2 final\n",
    "type: plans\n",
    "courses: { compsci: {week: 22} }\n",
    "permalink: /plans/final2\n",
    "---"
   ]
  },
  {
   "cell_type": "code",
   "execution_count": null,
   "metadata": {
    "vscode": {
     "languageId": "html"
    }
   },
   "outputs": [],
   "source": [
    "\n",
    "Our Project\n",
    "For our project, we decided to make a photo gallery with editing capabilities. Users are able to create and login to accounts, and upload and edit images. They can then download and save said images. \n",
    "    I worked on the sign up functionality for the project, allowing users to sign up and create new accounts."
   ]
  },
  {
   "cell_type": "code",
   "execution_count": null,
   "metadata": {
    "vscode": {
     "languageId": "html"
    }
   },
   "outputs": [],
   "source": [
    "\n",
    "College Board Requirements\n",
    "1.Instructions for input from one of the following: the user, a device, an online data stream, a file.\n",
    "2. Use of at least one list (or other collection type) to represent a collection of data that is stored and used to manage program complexity and help fulfill the user's purpose.\n",
    "3.An algorithm that includes sequencing, selection, and iteration that is in the body of the selected procedure.\n",
    "4.At least one procedure that contributed to the programs intended purpose where you have defined the name, return type, one or more parameters.\n",
    "5.Cells to your student-developed procedure.\n",
    "6. Instructions for output (tactile, audible, visual) based on input and program functionality."
   ]
  },
  {
   "cell_type": "code",
   "execution_count": null,
   "metadata": {
    "vscode": {
     "languageId": "html"
    }
   },
   "outputs": [],
   "source": [
    "Response\n",
    "1. Yes, instructions for the sign up process is written on the page. There are also specific requirements for the account to be created.\n",
    "2. Yes, SQLite manages the table of new users.\n",
    "3. Yes, there are visible steps and processes required in order to fulfill the sign up sequence. There is also a functionality asking to confirm password to make sure the user put in the correct password from the initial input.\n",
    "4. Yes, the program creates a token to verify user info for login.\n",
    "5. *https://docs.google.com/document/d/1PGV1L0bRQbntGoryrDGxODjkijjpgFhFd14yvGsgnuc/edit?usp=sharing*\n",
    "6. Yes, once the user signs up, they are presented with a screen saying \"Sign up successful. Your account has been created.\""
   ]
  },
  {
   "cell_type": "markdown",
   "metadata": {},
   "source": []
  },
  {
   "cell_type": "markdown",
   "metadata": {},
   "source": []
  },
  {
   "cell_type": "markdown",
   "metadata": {},
   "source": []
  }
 ],
 "metadata": {
  "kernelspec": {
   "display_name": "Python 3",
   "language": "python",
   "name": "python3"
  },
  "language_info": {
   "name": "python",
   "version": "3.12.2"
  },
  "orig_nbformat": 4
 },
 "nbformat": 4,
 "nbformat_minor": 2
}
