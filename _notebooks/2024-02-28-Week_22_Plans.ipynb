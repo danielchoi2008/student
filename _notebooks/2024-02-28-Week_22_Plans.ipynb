{
 "cells": [
  {
   "cell_type": "markdown",
   "metadata": {},
   "source": [
    "Tri 2 Final\n",
    "\n",
    "Our project\n",
    "For our project, we decided to make a photo gallery with editing capabilities. Users are able to create and login to accounts, and upload and edit images. They can then download and save said images. \n",
    "I worked on the sign up functionality for the project, allowing users to sign up and create new accounts.\n",
    "\n",
    "CSP Req:\n",
    "Instructions for input from one of the following: the user, a device, an online data stream, a file.\n",
    "\n",
    "Use of at least one list (or other collection type) to represent a collection of data that is stored and used to manage program complexity and help fulfill the user's purpose.\n",
    "\n",
    "An algorithm that includes sequencing, selection, and iteration that is in the body of the selected procedure\n",
    "\n",
    "At least one procedure that contributed to the program’s intended purpose where you have defined the name, return type, one or more parameters.\n",
    "\n",
    "Calls to your student-developed procedure:\n",
    "\n",
    "nstructions for output (tactile, audible, visual) based on input and program functionality"
   ]
  },
  {
   "cell_type": "markdown",
   "metadata": {},
   "source": [
    "---\n",
    "toc: false\n",
    "comments: true\n",
    "layout: post\n",
    "title: Week 22 Plan\n",
    "description: Week 22 Plan\n",
    "type: plans\n",
    "courses: { compsci: {week: 22} }\n",
    "permalink: /plans/week22\n",
    "---"
   ]
  },
  {
   "cell_type": "code",
   "execution_count": null,
   "metadata": {
    "vscode": {
     "languageId": "html"
    }
   },
   "outputs": [],
   "source": [
    "%%html\n",
    "\n",
    "<h3>Our Project</h3>\n",
    "<p>For our project, we decided to make a photo gallery with editing capabilities. Users are able to create and login to accounts, and upload and edit images. They can then download and save said images. \n",
    "    I worked on the sign up functionality for the project, allowing users to sign up and create new accounts.</p>"
   ]
  },
  {
   "cell_type": "code",
   "execution_count": null,
   "metadata": {
    "vscode": {
     "languageId": "html"
    }
   },
   "outputs": [],
   "source": [
    "%%html\n",
    "\n",
    "<h3>College Board Requirements</h3>\n",
    "<p>1.Instructions for input from one of the following: the user, a device, an online data stream, a file.</p>\n",
    "<p>2. Use of at least one list (or other collection type) to represent a collection of data that is stored and used to manage program complexity and help fulfill the user's purpose.</p>\n",
    "<p>3.An algorithm that includes sequencing, selection, and iteration that is in the body of the selected procedure.</p>\n",
    "<p>4.At least one procedure that contributed to the programs intended purpose where you have defined the name, return type, one or more parameters.</p>\n",
    "<p>5.Cells to your student-developed procedure.</p>\n",
    "<p>6. Instructions for output (tactile, audible, visual) based on input and program functionality.</p>"
   ]
  },
  {
   "cell_type": "code",
   "execution_count": null,
   "metadata": {
    "vscode": {
     "languageId": "html"
    }
   },
   "outputs": [],
   "source": [
    "<h3>Response</h3>\n",
    "<p>1. Yes, instructions for the sign up process is written on the page. There are also specific requirements for the account to be created.</p>\n",
    "<p>2. Yes, SQLite manages the table of new users.</p>\n",
    "<p>3. Yes, there are visible steps and processes required in order to fulfill the sign up sequence. There is also a functionality asking to confirm password to make sure the user put in the correct password from the initial input.</p>\n",
    "<p>4. Yes, the program creates a token to verify user info for login.</p>\n",
    "<p>5. *https://docs.google.com/document/d/1PGV1L0bRQbntGoryrDGxODjkijjpgFhFd14yvGsgnuc/edit?usp=sharing*</p>\n",
    "<p>6. Yes, once the user signs up, they are presented with a screen saying \"Sign up successful. Your account has been created.\"</p>"
   ]
  },
  {
   "cell_type": "markdown",
   "metadata": {},
   "source": []
  },
  {
   "cell_type": "markdown",
   "metadata": {},
   "source": []
  },
  {
   "cell_type": "markdown",
   "metadata": {},
   "source": []
  }
 ],
 "metadata": {
  "kernelspec": {
   "display_name": "Python 3",
   "language": "python",
   "name": "python3"
  },
  "language_info": {
   "name": "python",
   "version": "3.12.2"
  },
  "orig_nbformat": 4
 },
 "nbformat": 4,
 "nbformat_minor": 2
}
