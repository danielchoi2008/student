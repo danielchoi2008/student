{
 "cells": [
  {
   "cell_type": "markdown",
   "metadata": {},
   "source": [
    "---\n",
    "title: Random Fact Generator \n",
    "comments: true \n",
    "hide: true \n",
    "layout: default\n",
    "description: Generate a random fact \n",
    "courses: { compsci: {week: 3} }\n",
    "type: hacks\n",
    "---"
   ]
  },
  {
   "cell_type": "code",
   "execution_count": 1,
   "metadata": {},
   "outputs": [
    {
     "name": "stdout",
     "output_type": "stream",
     "text": [
      "Random Facts\n",
      "Press enter for a fact\n",
      "The city of Tokyo was originally called Edo\n",
      "Press enter for a fact\n",
      "Mobile phones have 18 times more bacteria than toilet handles.\n",
      "Press enter for a fact\n",
      "While still in college, Bill Gates and Paul Allen once built a special purpose machine called \"Traff-O-Data.\" It was a machine that would analyze information gathered by traffic monitors. They never found any buyers.\n",
      "Press enter for a fact\n",
      "Every year in the U.S., there are 178,000 new cases of lung cancer\n",
      "Press enter for a fact\n",
      "The most popular meal ordered at restaurants in the U.S. is fried chicken\n",
      "Press enter for a fact\n",
      "If you were drafted during the American Civil War you could legally pay someone else $300 to go in your place.\n",
      "Press enter for a fact\n",
      "The key to happiness is spending your money on experiences rather than possessions, according to studies.\n",
      "Press enter for a fact\n",
      "Termites have been known to eat food twice as fast when heavy metal music is playing.\n",
      "Press enter for a fact\n",
      "Dr Pepper does not have a period.\n",
      "Press enter for a fact\n",
      "Cows get stressed when they are separated from their best friends.\n",
      "Press enter for a fact\n",
      "When visiting Key West, you're actually closer to Havana than you are to Miami.\n",
      "Press enter for a fact\n",
      "Fortune telling is illegal in Maryland.\n",
      "Press enter for a fact\n",
      "Historically, for every 100 climbers who have made it to the summit of Mount Everest, 4 have died\n",
      "Press enter for a fact\n",
      "On one slow news day on April 18, 1930, a BBC radio announcer blatantly said \"there is no news\".\n",
      "Press enter for a fact\n",
      "NASCAR drivers lose weight while racing.\n",
      "Press enter for a fact\n",
      "Lorne Greene had one of his nipples bitten off by an alligator while he was host of \"Lorne Greene's Wild Kingdom.\"\n",
      "Press enter for a fact\n",
      "Every hour the Universe expands by a billion miles in all directions.\n",
      "Press enter for a fact\n",
      "Buffalo wings, got their name because the spicy chicken wings originated in Buffalo, New York\n",
      "Press enter for a fact\n",
      "The World's Largest Teddy Bear Collection Numbers More Than 8,000\n",
      "Press enter for a fact\n",
      "Doctors' sloppy handwriting kills more than 7,000 people annually.\n",
      "Press enter for a fact\n",
      "Cap'n Crunch was once sued for not using real berries.\n",
      "Press enter for a fact\n",
      "The Word for Black Belt in Japanese Translates to \"First Step\"\n",
      "Press enter for a fact\n",
      "The deepest underwater penguin dive is 1,772 feet by an Emperor Penguin\n",
      "Press enter for a fact\n",
      "Baby elephants use their trunks the same way that baby humans use a pacifier. Baby elephants find sucking on their trunks very calming.\n",
      "Press enter for a fact\n",
      "More people speak English in China than the United States.\n"
     ]
    }
   ],
   "source": [
    "## code to generate random fact\n",
    "\n",
    "import randfacts as rf\n",
    "\n",
    "print(\"Random Facts\")\n",
    "x=''\n",
    "\n",
    "while x =='':\n",
    "    print(\"Press enter for a fact\")\n",
    "    x = input()\n",
    "    fact = rf.get_fact()\n",
    "    print(fact)\n"
   ]
  },
  {
   "cell_type": "code",
   "execution_count": 2,
   "metadata": {},
   "outputs": [
    {
     "ename": "Exception",
     "evalue": "File `'random-fact.py'` not found.",
     "output_type": "error",
     "traceback": [
      "\u001b[0;31m---------------------------------------------------------------------------\u001b[0m",
      "\u001b[0;31mOSError\u001b[0m                                   Traceback (most recent call last)",
      "File \u001b[0;32m/opt/homebrew/lib/python3.11/site-packages/IPython/core/magics/execution.py:701\u001b[0m, in \u001b[0;36mExecutionMagics.run\u001b[0;34m(self, parameter_s, runner, file_finder)\u001b[0m\n\u001b[1;32m    700\u001b[0m     fpath \u001b[39m=\u001b[39m arg_lst[\u001b[39m0\u001b[39m]\n\u001b[0;32m--> 701\u001b[0m     filename \u001b[39m=\u001b[39m file_finder(fpath)\n\u001b[1;32m    702\u001b[0m \u001b[39mexcept\u001b[39;00m \u001b[39mIndexError\u001b[39;00m \u001b[39mas\u001b[39;00m e:\n",
      "File \u001b[0;32m/opt/homebrew/lib/python3.11/site-packages/IPython/utils/path.py:90\u001b[0m, in \u001b[0;36mget_py_filename\u001b[0;34m(name)\u001b[0m\n\u001b[1;32m     89\u001b[0m         \u001b[39mreturn\u001b[39;00m py_name\n\u001b[0;32m---> 90\u001b[0m \u001b[39mraise\u001b[39;00m \u001b[39mIOError\u001b[39;00m(\u001b[39m\"\u001b[39m\u001b[39mFile `\u001b[39m\u001b[39m%r\u001b[39;00m\u001b[39m` not found.\u001b[39m\u001b[39m\"\u001b[39m \u001b[39m%\u001b[39m name)\n",
      "\u001b[0;31mOSError\u001b[0m: File `'random-fact.py'` not found.",
      "\nThe above exception was the direct cause of the following exception:\n",
      "\u001b[0;31mException\u001b[0m                                 Traceback (most recent call last)",
      "\u001b[1;32m/Users/danielchoi/vscode/student/_notebooks/2023-09-11-random-fact.ipynb Cell 3\u001b[0m line \u001b[0;36m1\n\u001b[0;32m----> <a href='vscode-notebook-cell:/Users/danielchoi/vscode/student/_notebooks/2023-09-11-random-fact.ipynb#W2sZmlsZQ%3D%3D?line=0'>1</a>\u001b[0m get_ipython()\u001b[39m.\u001b[39;49mrun_line_magic(\u001b[39m'\u001b[39;49m\u001b[39mrun\u001b[39;49m\u001b[39m'\u001b[39;49m, \u001b[39m'\u001b[39;49m\u001b[39mrandom-fact.py\u001b[39;49m\u001b[39m'\u001b[39;49m)\n",
      "File \u001b[0;32m/opt/homebrew/lib/python3.11/site-packages/IPython/core/interactiveshell.py:2417\u001b[0m, in \u001b[0;36mInteractiveShell.run_line_magic\u001b[0;34m(self, magic_name, line, _stack_depth)\u001b[0m\n\u001b[1;32m   2415\u001b[0m     kwargs[\u001b[39m'\u001b[39m\u001b[39mlocal_ns\u001b[39m\u001b[39m'\u001b[39m] \u001b[39m=\u001b[39m \u001b[39mself\u001b[39m\u001b[39m.\u001b[39mget_local_scope(stack_depth)\n\u001b[1;32m   2416\u001b[0m \u001b[39mwith\u001b[39;00m \u001b[39mself\u001b[39m\u001b[39m.\u001b[39mbuiltin_trap:\n\u001b[0;32m-> 2417\u001b[0m     result \u001b[39m=\u001b[39m fn(\u001b[39m*\u001b[39;49margs, \u001b[39m*\u001b[39;49m\u001b[39m*\u001b[39;49mkwargs)\n\u001b[1;32m   2419\u001b[0m \u001b[39m# The code below prevents the output from being displayed\u001b[39;00m\n\u001b[1;32m   2420\u001b[0m \u001b[39m# when using magics with decodator @output_can_be_silenced\u001b[39;00m\n\u001b[1;32m   2421\u001b[0m \u001b[39m# when the last Python token in the expression is a ';'.\u001b[39;00m\n\u001b[1;32m   2422\u001b[0m \u001b[39mif\u001b[39;00m \u001b[39mgetattr\u001b[39m(fn, magic\u001b[39m.\u001b[39mMAGIC_OUTPUT_CAN_BE_SILENCED, \u001b[39mFalse\u001b[39;00m):\n",
      "File \u001b[0;32m/opt/homebrew/lib/python3.11/site-packages/IPython/core/magics/execution.py:712\u001b[0m, in \u001b[0;36mExecutionMagics.run\u001b[0;34m(self, parameter_s, runner, file_finder)\u001b[0m\n\u001b[1;32m    710\u001b[0m     \u001b[39mif\u001b[39;00m os\u001b[39m.\u001b[39mname \u001b[39m==\u001b[39m \u001b[39m'\u001b[39m\u001b[39mnt\u001b[39m\u001b[39m'\u001b[39m \u001b[39mand\u001b[39;00m re\u001b[39m.\u001b[39mmatch(\u001b[39mr\u001b[39m\u001b[39m\"\u001b[39m\u001b[39m^\u001b[39m\u001b[39m'\u001b[39m\u001b[39m.*\u001b[39m\u001b[39m'\u001b[39m\u001b[39m$\u001b[39m\u001b[39m\"\u001b[39m,fpath):\n\u001b[1;32m    711\u001b[0m         warn(\u001b[39m'\u001b[39m\u001b[39mFor Windows, use double quotes to wrap a filename: \u001b[39m\u001b[39m%r\u001b[39;00m\u001b[39mun \u001b[39m\u001b[39m\"\u001b[39m\u001b[39mmypath\u001b[39m\u001b[39m\\\\\u001b[39;00m\u001b[39mmyfile.py\u001b[39m\u001b[39m\"\u001b[39m\u001b[39m'\u001b[39m)\n\u001b[0;32m--> 712\u001b[0m     \u001b[39mraise\u001b[39;00m \u001b[39mException\u001b[39;00m(msg) \u001b[39mfrom\u001b[39;00m \u001b[39me\u001b[39;00m\n\u001b[1;32m    713\u001b[0m \u001b[39mexcept\u001b[39;00m \u001b[39mTypeError\u001b[39;00m:\n\u001b[1;32m    714\u001b[0m     \u001b[39mif\u001b[39;00m fpath \u001b[39min\u001b[39;00m sys\u001b[39m.\u001b[39mmeta_path:\n",
      "\u001b[0;31mException\u001b[0m: File `'random-fact.py'` not found."
     ]
    }
   ],
   "source": [
    "%run random-fact.py"
   ]
  }
 ],
 "metadata": {
  "kernelspec": {
   "display_name": "Python 3",
   "language": "python",
   "name": "python3"
  },
  "language_info": {
   "codemirror_mode": {
    "name": "ipython",
    "version": 3
   },
   "file_extension": ".py",
   "mimetype": "text/x-python",
   "name": "python",
   "nbconvert_exporter": "python",
   "pygments_lexer": "ipython3",
   "version": "3.11.5"
  },
  "orig_nbformat": 4
 },
 "nbformat": 4,
 "nbformat_minor": 2
}
